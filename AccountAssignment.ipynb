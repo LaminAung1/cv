{
  "nbformat": 4,
  "nbformat_minor": 0,
  "metadata": {
    "colab": {
      "provenance": [],
      "authorship_tag": "ABX9TyNsjRDHgZnCJmL2m1Or8YZv",
      "include_colab_link": true
    },
    "kernelspec": {
      "name": "python3",
      "display_name": "Python 3"
    },
    "language_info": {
      "name": "python"
    }
  },
  "cells": [
    {
      "cell_type": "markdown",
      "metadata": {
        "id": "view-in-github",
        "colab_type": "text"
      },
      "source": [
        "<a href=\"https://colab.research.google.com/github/LaminAung1/cv/blob/main/AccountAssignment.ipynb\" target=\"_parent\"><img src=\"https://colab.research.google.com/assets/colab-badge.svg\" alt=\"Open In Colab\"/></a>"
      ]
    },
    {
      "cell_type": "code",
      "execution_count": null,
      "metadata": {
        "id": "NrYWy7oUTaqm",
        "colab": {
          "base_uri": "https://localhost:8080/"
        },
        "outputId": "e1bd8a41-fed8-4b15-ca71-d89c37afdb28"
      },
      "outputs": [
        {
          "output_type": "stream",
          "name": "stdout",
          "text": [
            "Requirement already satisfied: PyPDF2 in /usr/local/lib/python3.10/dist-packages (3.0.1)\n"
          ]
        }
      ],
      "source": [
        "!pip install PyPDF2\n"
      ]
    },
    {
      "cell_type": "code",
      "source": [
        "files_info = {\n",
        "    'TopGlove_Annual_Report_2018.pdf': [108, 109, 110, 111, 112, 113, 114, 115, 116, 117, 118],  # Pages to extract from file1.pdf\n",
        "    'TopGlove_Annual_Report_2019.pdf': [136, 137, 138, 139, 140, 141, 142, 143, 144, 145, 146, 147, 148],  # Pages to extract from file2.pdf\n",
        "    'TopGlove_Annual_Report_2020.pdf': [79, 80, 81, 82, 83, 84],  # Pages to extract from file3.pdf\n",
        "    'TopGlove_Annual_Report_2021.pdf': [97, 98, 99, 100, 101, 102],  # Pages to extract from file4.pdf\n",
        "    'TopGlove_Annual_Report_2022.pdf': [64, 65, 66, 67, 68, 69]  # Pages to extract from file5.pdf\n",
        "}\n"
      ],
      "metadata": {
        "id": "28MaZzYh91Hk"
      },
      "execution_count": null,
      "outputs": []
    },
    {
      "cell_type": "code",
      "source": [
        "import PyPDF2\n",
        "\n",
        "# Create a PDF writer object for the output file\n",
        "writer = PyPDF2.PdfWriter()\n",
        "\n",
        "# Process each file\n",
        "for filename, pages in files_info.items():\n",
        "    reader = PyPDF2.PdfReader(filename)\n",
        "    for page_num in pages:\n",
        "        # Extract the page (0-based index in PyPDF2)\n",
        "        page = reader.pages[page_num - 1]\n",
        "        writer.add_page(page)\n",
        "\n",
        "# Write out the combined PDF\n",
        "with open('combined_output_1.pdf', 'wb') as out:\n",
        "    writer.write(out)\n"
      ],
      "metadata": {
        "id": "34hI43R_-kvV"
      },
      "execution_count": null,
      "outputs": []
    },
    {
      "cell_type": "code",
      "source": [
        "from google.colab import files\n",
        "files.download('combined_output_1.pdf')\n"
      ],
      "metadata": {
        "colab": {
          "base_uri": "https://localhost:8080/",
          "height": 17
        },
        "id": "owHDQhr4-oEr",
        "outputId": "3fd24f67-0f6c-40f6-8512-e0093ee4add8"
      },
      "execution_count": null,
      "outputs": [
        {
          "output_type": "display_data",
          "data": {
            "text/plain": [
              "<IPython.core.display.Javascript object>"
            ],
            "application/javascript": [
              "\n",
              "    async function download(id, filename, size) {\n",
              "      if (!google.colab.kernel.accessAllowed) {\n",
              "        return;\n",
              "      }\n",
              "      const div = document.createElement('div');\n",
              "      const label = document.createElement('label');\n",
              "      label.textContent = `Downloading \"${filename}\": `;\n",
              "      div.appendChild(label);\n",
              "      const progress = document.createElement('progress');\n",
              "      progress.max = size;\n",
              "      div.appendChild(progress);\n",
              "      document.body.appendChild(div);\n",
              "\n",
              "      const buffers = [];\n",
              "      let downloaded = 0;\n",
              "\n",
              "      const channel = await google.colab.kernel.comms.open(id);\n",
              "      // Send a message to notify the kernel that we're ready.\n",
              "      channel.send({})\n",
              "\n",
              "      for await (const message of channel.messages) {\n",
              "        // Send a message to notify the kernel that we're ready.\n",
              "        channel.send({})\n",
              "        if (message.buffers) {\n",
              "          for (const buffer of message.buffers) {\n",
              "            buffers.push(buffer);\n",
              "            downloaded += buffer.byteLength;\n",
              "            progress.value = downloaded;\n",
              "          }\n",
              "        }\n",
              "      }\n",
              "      const blob = new Blob(buffers, {type: 'application/binary'});\n",
              "      const a = document.createElement('a');\n",
              "      a.href = window.URL.createObjectURL(blob);\n",
              "      a.download = filename;\n",
              "      div.appendChild(a);\n",
              "      a.click();\n",
              "      div.remove();\n",
              "    }\n",
              "  "
            ]
          },
          "metadata": {}
        },
        {
          "output_type": "display_data",
          "data": {
            "text/plain": [
              "<IPython.core.display.Javascript object>"
            ],
            "application/javascript": [
              "download(\"download_bf8b1d7d-c90b-40f6-9c99-0067f08f3659\", \"combined_output_1.pdf\", 581549)"
            ]
          },
          "metadata": {}
        }
      ]
    },
    {
      "cell_type": "code",
      "source": [
        "files_info = {\n",
        "    'combined_output_1.pdf': {'pages': [6, 7, 11, 17, 18, 22, 28, 33, 34, 36, 39, 40, 42], 'rotate_pages': {2: 90}}\n",
        "}\n"
      ],
      "metadata": {
        "id": "vgvBhdW1CILx"
      },
      "execution_count": null,
      "outputs": []
    },
    {
      "cell_type": "code",
      "source": [
        "import PyPDF2\n",
        "\n",
        "def rotate_page(page, rotation):\n",
        "    \"\"\"Rotate the page by the specified degrees.\"\"\"\n",
        "    page.rotate_clockwise(rotation)\n",
        "    return page\n",
        "\n",
        "# Create a PDF writer object for the output file\n",
        "writer = PyPDF2.PdfWriter()\n",
        "\n",
        "# Process each file\n",
        "for filename, info in files_info.items():\n",
        "    reader = PyPDF2.PdfReader(filename)\n",
        "    for page_num in info['pages']:\n",
        "        page = reader.pages[page_num - 1]  # Adjust index to be 0-based\n",
        "        if page_num in info['rotate_pages']:\n",
        "            # Rotate page if specified\n",
        "            page = rotate_page(page, info['rotate_pages'][page_num])\n",
        "        writer.add_page(page)\n",
        "\n",
        "# Write out the combined PDF\n",
        "with open('combined_output_2.pdf', 'wb') as out:\n",
        "    writer.write(out)\n"
      ],
      "metadata": {
        "id": "2WF8mEc1Cscu"
      },
      "execution_count": null,
      "outputs": []
    },
    {
      "cell_type": "code",
      "source": [
        "from google.colab import files\n",
        "files.download('combined_output_2.pdf')\n"
      ],
      "metadata": {
        "colab": {
          "base_uri": "https://localhost:8080/",
          "height": 17
        },
        "id": "cftIKOBWCwFq",
        "outputId": "857bdde3-f7a3-4be7-ecce-84bf37195c63"
      },
      "execution_count": null,
      "outputs": [
        {
          "output_type": "display_data",
          "data": {
            "text/plain": [
              "<IPython.core.display.Javascript object>"
            ],
            "application/javascript": [
              "\n",
              "    async function download(id, filename, size) {\n",
              "      if (!google.colab.kernel.accessAllowed) {\n",
              "        return;\n",
              "      }\n",
              "      const div = document.createElement('div');\n",
              "      const label = document.createElement('label');\n",
              "      label.textContent = `Downloading \"${filename}\": `;\n",
              "      div.appendChild(label);\n",
              "      const progress = document.createElement('progress');\n",
              "      progress.max = size;\n",
              "      div.appendChild(progress);\n",
              "      document.body.appendChild(div);\n",
              "\n",
              "      const buffers = [];\n",
              "      let downloaded = 0;\n",
              "\n",
              "      const channel = await google.colab.kernel.comms.open(id);\n",
              "      // Send a message to notify the kernel that we're ready.\n",
              "      channel.send({})\n",
              "\n",
              "      for await (const message of channel.messages) {\n",
              "        // Send a message to notify the kernel that we're ready.\n",
              "        channel.send({})\n",
              "        if (message.buffers) {\n",
              "          for (const buffer of message.buffers) {\n",
              "            buffers.push(buffer);\n",
              "            downloaded += buffer.byteLength;\n",
              "            progress.value = downloaded;\n",
              "          }\n",
              "        }\n",
              "      }\n",
              "      const blob = new Blob(buffers, {type: 'application/binary'});\n",
              "      const a = document.createElement('a');\n",
              "      a.href = window.URL.createObjectURL(blob);\n",
              "      a.download = filename;\n",
              "      div.appendChild(a);\n",
              "      a.click();\n",
              "      div.remove();\n",
              "    }\n",
              "  "
            ]
          },
          "metadata": {}
        },
        {
          "output_type": "display_data",
          "data": {
            "text/plain": [
              "<IPython.core.display.Javascript object>"
            ],
            "application/javascript": [
              "download(\"download_7a3c465b-7c45-4851-b707-e423b8c5f83c\", \"combined_output_2.pdf\", 419275)"
            ]
          },
          "metadata": {}
        }
      ]
    },
    {
      "cell_type": "code",
      "source": [
        "!pip install PyPDF2\n"
      ],
      "metadata": {
        "colab": {
          "base_uri": "https://localhost:8080/"
        },
        "id": "fpmxQvneFxbn",
        "outputId": "e08a5cdb-cc18-4df2-d9e7-f0981e403b6a"
      },
      "execution_count": null,
      "outputs": [
        {
          "output_type": "stream",
          "name": "stdout",
          "text": [
            "Requirement already satisfied: PyPDF2 in /usr/local/lib/python3.10/dist-packages (3.0.1)\n"
          ]
        }
      ]
    },
    {
      "cell_type": "code",
      "source": [
        "rotate_pages = {6: 90, 6: 90, 7: 90, 11: 90, 17: 90, 18: 90, 22: 90, 28: 90, 33: 90, 34: 90, 36: 90, 39: 90, 40: 90, 42: 90}  # Page numbers are 1-based, as usual in document descriptions\n"
      ],
      "metadata": {
        "id": "ZYQQTZ54F8Ls"
      },
      "execution_count": null,
      "outputs": []
    },
    {
      "cell_type": "code",
      "source": [
        "import PyPDF2\n",
        "\n",
        "def rotate_specific_pages(input_path, output_path, rotate_pages):\n",
        "    reader = PyPDF2.PdfReader(input_path)\n",
        "    writer = PyPDF2.PdfWriter()\n",
        "\n",
        "    # Iterate through all pages, rotating those specified\n",
        "    for i in range(len(reader.pages)):\n",
        "        page = reader.pages[i]\n",
        "        page_number = i + 1  # Convert from 0-based to 1-based index\n",
        "        if page_number in rotate_pages:\n",
        "            page.rotate_clockwise(rotate_pages[page_number])\n",
        "        writer.add_page(page)\n",
        "\n",
        "    # Write the modified PDF to a new file\n",
        "    with open(output_path, 'wb') as out:\n",
        "        writer.write(out)\n",
        "\n",
        "# Example usage\n",
        "input_pdf_path = 'combined_output_1.pdf'\n",
        "output_pdf_path = 'modified_pdf_file_2.pdf'\n",
        "rotate_specific_pages(input_pdf_path, output_pdf_path, rotate_pages)\n"
      ],
      "metadata": {
        "colab": {
          "base_uri": "https://localhost:8080/",
          "height": 339
        },
        "id": "mgNfupMeG__d",
        "outputId": "3a6117e7-e097-4494-8baa-2491b9a5bd47"
      },
      "execution_count": null,
      "outputs": [
        {
          "output_type": "error",
          "ename": "DeprecationError",
          "evalue": "rotate_clockwise is deprecated and was removed in PyPDF2 3.0.0. Use rotate instead.",
          "traceback": [
            "\u001b[0;31m---------------------------------------------------------------------------\u001b[0m",
            "\u001b[0;31mDeprecationError\u001b[0m                          Traceback (most recent call last)",
            "\u001b[0;32m<ipython-input-29-e434b712bf42>\u001b[0m in \u001b[0;36m<cell line: 22>\u001b[0;34m()\u001b[0m\n\u001b[1;32m     20\u001b[0m \u001b[0minput_pdf_path\u001b[0m \u001b[0;34m=\u001b[0m \u001b[0;34m'combined_output_1.pdf'\u001b[0m\u001b[0;34m\u001b[0m\u001b[0;34m\u001b[0m\u001b[0m\n\u001b[1;32m     21\u001b[0m \u001b[0moutput_pdf_path\u001b[0m \u001b[0;34m=\u001b[0m \u001b[0;34m'modified_pdf_file_2.pdf'\u001b[0m\u001b[0;34m\u001b[0m\u001b[0;34m\u001b[0m\u001b[0m\n\u001b[0;32m---> 22\u001b[0;31m \u001b[0mrotate_specific_pages\u001b[0m\u001b[0;34m(\u001b[0m\u001b[0minput_pdf_path\u001b[0m\u001b[0;34m,\u001b[0m \u001b[0moutput_pdf_path\u001b[0m\u001b[0;34m,\u001b[0m \u001b[0mrotate_pages\u001b[0m\u001b[0;34m)\u001b[0m\u001b[0;34m\u001b[0m\u001b[0;34m\u001b[0m\u001b[0m\n\u001b[0m",
            "\u001b[0;32m<ipython-input-29-e434b712bf42>\u001b[0m in \u001b[0;36mrotate_specific_pages\u001b[0;34m(input_path, output_path, rotate_pages)\u001b[0m\n\u001b[1;32m     10\u001b[0m         \u001b[0mpage_number\u001b[0m \u001b[0;34m=\u001b[0m \u001b[0mi\u001b[0m \u001b[0;34m+\u001b[0m \u001b[0;36m1\u001b[0m  \u001b[0;31m# Convert from 0-based to 1-based index\u001b[0m\u001b[0;34m\u001b[0m\u001b[0;34m\u001b[0m\u001b[0m\n\u001b[1;32m     11\u001b[0m         \u001b[0;32mif\u001b[0m \u001b[0mpage_number\u001b[0m \u001b[0;32min\u001b[0m \u001b[0mrotate_pages\u001b[0m\u001b[0;34m:\u001b[0m\u001b[0;34m\u001b[0m\u001b[0;34m\u001b[0m\u001b[0m\n\u001b[0;32m---> 12\u001b[0;31m             \u001b[0mpage\u001b[0m\u001b[0;34m.\u001b[0m\u001b[0mrotate_clockwise\u001b[0m\u001b[0;34m(\u001b[0m\u001b[0mrotate_pages\u001b[0m\u001b[0;34m[\u001b[0m\u001b[0mpage_number\u001b[0m\u001b[0;34m]\u001b[0m\u001b[0;34m)\u001b[0m\u001b[0;34m\u001b[0m\u001b[0;34m\u001b[0m\u001b[0m\n\u001b[0m\u001b[1;32m     13\u001b[0m         \u001b[0mwriter\u001b[0m\u001b[0;34m.\u001b[0m\u001b[0madd_page\u001b[0m\u001b[0;34m(\u001b[0m\u001b[0mpage\u001b[0m\u001b[0;34m)\u001b[0m\u001b[0;34m\u001b[0m\u001b[0;34m\u001b[0m\u001b[0m\n\u001b[1;32m     14\u001b[0m \u001b[0;34m\u001b[0m\u001b[0m\n",
            "\u001b[0;32m/usr/local/lib/python3.10/dist-packages/PyPDF2/_page.py\u001b[0m in \u001b[0;36mrotate_clockwise\u001b[0;34m(self, angle)\u001b[0m\n\u001b[1;32m    550\u001b[0m \u001b[0;34m\u001b[0m\u001b[0m\n\u001b[1;32m    551\u001b[0m     \u001b[0;32mdef\u001b[0m \u001b[0mrotate_clockwise\u001b[0m\u001b[0;34m(\u001b[0m\u001b[0mself\u001b[0m\u001b[0;34m,\u001b[0m \u001b[0mangle\u001b[0m\u001b[0;34m:\u001b[0m \u001b[0mint\u001b[0m\u001b[0;34m)\u001b[0m \u001b[0;34m->\u001b[0m \u001b[0;34m\"PageObject\"\u001b[0m\u001b[0;34m:\u001b[0m  \u001b[0;31m# pragma: no cover\u001b[0m\u001b[0;34m\u001b[0m\u001b[0;34m\u001b[0m\u001b[0m\n\u001b[0;32m--> 552\u001b[0;31m         \u001b[0mdeprecation_with_replacement\u001b[0m\u001b[0;34m(\u001b[0m\u001b[0;34m\"rotate_clockwise\"\u001b[0m\u001b[0;34m,\u001b[0m \u001b[0;34m\"rotate\"\u001b[0m\u001b[0;34m,\u001b[0m \u001b[0;34m\"3.0.0\"\u001b[0m\u001b[0;34m)\u001b[0m\u001b[0;34m\u001b[0m\u001b[0;34m\u001b[0m\u001b[0m\n\u001b[0m\u001b[1;32m    553\u001b[0m         \u001b[0;32mreturn\u001b[0m \u001b[0mself\u001b[0m\u001b[0;34m.\u001b[0m\u001b[0mrotate\u001b[0m\u001b[0;34m(\u001b[0m\u001b[0mangle\u001b[0m\u001b[0;34m)\u001b[0m\u001b[0;34m\u001b[0m\u001b[0;34m\u001b[0m\u001b[0m\n\u001b[1;32m    554\u001b[0m \u001b[0;34m\u001b[0m\u001b[0m\n",
            "\u001b[0;32m/usr/local/lib/python3.10/dist-packages/PyPDF2/_utils.py\u001b[0m in \u001b[0;36mdeprecation_with_replacement\u001b[0;34m(old_name, new_name, removed_in)\u001b[0m\n\u001b[1;32m    367\u001b[0m     \u001b[0mRaise\u001b[0m \u001b[0man\u001b[0m \u001b[0mexception\u001b[0m \u001b[0mthat\u001b[0m \u001b[0ma\u001b[0m \u001b[0mfeature\u001b[0m \u001b[0mwas\u001b[0m \u001b[0malready\u001b[0m \u001b[0mremoved\u001b[0m\u001b[0;34m,\u001b[0m \u001b[0mbut\u001b[0m \u001b[0mhas\u001b[0m \u001b[0ma\u001b[0m \u001b[0mreplacement\u001b[0m\u001b[0;34m.\u001b[0m\u001b[0;34m\u001b[0m\u001b[0;34m\u001b[0m\u001b[0m\n\u001b[1;32m    368\u001b[0m     \"\"\"\n\u001b[0;32m--> 369\u001b[0;31m     \u001b[0mdeprecation\u001b[0m\u001b[0;34m(\u001b[0m\u001b[0mDEPR_MSG_HAPPENED\u001b[0m\u001b[0;34m.\u001b[0m\u001b[0mformat\u001b[0m\u001b[0;34m(\u001b[0m\u001b[0mold_name\u001b[0m\u001b[0;34m,\u001b[0m \u001b[0mremoved_in\u001b[0m\u001b[0;34m,\u001b[0m \u001b[0mnew_name\u001b[0m\u001b[0;34m)\u001b[0m\u001b[0;34m)\u001b[0m\u001b[0;34m\u001b[0m\u001b[0;34m\u001b[0m\u001b[0m\n\u001b[0m\u001b[1;32m    370\u001b[0m \u001b[0;34m\u001b[0m\u001b[0m\n\u001b[1;32m    371\u001b[0m \u001b[0;34m\u001b[0m\u001b[0m\n",
            "\u001b[0;32m/usr/local/lib/python3.10/dist-packages/PyPDF2/_utils.py\u001b[0m in \u001b[0;36mdeprecation\u001b[0;34m(msg)\u001b[0m\n\u001b[1;32m    349\u001b[0m \u001b[0;34m\u001b[0m\u001b[0m\n\u001b[1;32m    350\u001b[0m \u001b[0;32mdef\u001b[0m \u001b[0mdeprecation\u001b[0m\u001b[0;34m(\u001b[0m\u001b[0mmsg\u001b[0m\u001b[0;34m:\u001b[0m \u001b[0mstr\u001b[0m\u001b[0;34m)\u001b[0m \u001b[0;34m->\u001b[0m \u001b[0;32mNone\u001b[0m\u001b[0;34m:\u001b[0m\u001b[0;34m\u001b[0m\u001b[0;34m\u001b[0m\u001b[0m\n\u001b[0;32m--> 351\u001b[0;31m     \u001b[0;32mraise\u001b[0m \u001b[0mDeprecationError\u001b[0m\u001b[0;34m(\u001b[0m\u001b[0mmsg\u001b[0m\u001b[0;34m)\u001b[0m\u001b[0;34m\u001b[0m\u001b[0;34m\u001b[0m\u001b[0m\n\u001b[0m\u001b[1;32m    352\u001b[0m \u001b[0;34m\u001b[0m\u001b[0m\n\u001b[1;32m    353\u001b[0m \u001b[0;34m\u001b[0m\u001b[0m\n",
            "\u001b[0;31mDeprecationError\u001b[0m: rotate_clockwise is deprecated and was removed in PyPDF2 3.0.0. Use rotate instead."
          ]
        }
      ]
    },
    {
      "cell_type": "code",
      "source": [
        "!pip install --upgrade PyPDF2\n"
      ],
      "metadata": {
        "colab": {
          "base_uri": "https://localhost:8080/"
        },
        "id": "VQlMlatiHN8r",
        "outputId": "2a7f8441-bed9-4c1d-a11e-2e3c754d9fbc"
      },
      "execution_count": null,
      "outputs": [
        {
          "output_type": "stream",
          "name": "stdout",
          "text": [
            "Requirement already satisfied: PyPDF2 in /usr/local/lib/python3.10/dist-packages (3.0.1)\n"
          ]
        }
      ]
    },
    {
      "cell_type": "code",
      "source": [
        "import PyPDF2\n",
        "\n",
        "def rotate_specific_pages(input_path, output_path, rotate_pages):\n",
        "    reader = PyPDF2.PdfReader(input_path)\n",
        "    writer = PyPDF2.PdfWriter()\n",
        "\n",
        "    # Iterate through all pages, rotating those specified\n",
        "    for i in range(len(reader.pages)):\n",
        "        page = reader.pages[i]\n",
        "        page_number = i + 1  # Convert from 0-based to 1-based index\n",
        "        if page_number in rotate_pages:\n",
        "            current_rotation = page.rotation  # Get the current rotation of the page\n",
        "            new_rotation = (current_rotation + rotate_pages[page_number]) % 360  # Calculate new rotation\n",
        "            page.rotate(new_rotation)  # Set the new rotation\n",
        "        writer.add_page(page)\n",
        "\n",
        "    # Write the modified PDF to a new file\n",
        "    with open(output_path, 'wb') as out:\n",
        "        writer.write(out)\n",
        "\n",
        "# Example usage\n",
        "input_pdf_path = 'combined_output_1.pdf'\n",
        "output_pdf_path = 'modified_pdf_file_2.pdf'\n",
        "rotate_pages = {6: 90, 6: 90, 7: 90, 11: 90, 17: 90, 18: 90, 22: 90, 28: 90, 33: 90, 34: 90, 36: 90, 39: 90, 40: 90, 42: 90}  # Define pages and their rotation angles\n",
        "rotate_specific_pages(input_pdf_path, output_pdf_path, rotate_pages)\n"
      ],
      "metadata": {
        "id": "spdemjtiHS-o"
      },
      "execution_count": null,
      "outputs": []
    },
    {
      "cell_type": "code",
      "source": [
        "from google.colab import files\n",
        "files.download(output_pdf_path)\n"
      ],
      "metadata": {
        "id": "a1jDKXPbHhEZ",
        "outputId": "a90df41b-820e-4219-b882-9dec1ad63149",
        "colab": {
          "base_uri": "https://localhost:8080/",
          "height": 34
        }
      },
      "execution_count": null,
      "outputs": [
        {
          "output_type": "display_data",
          "data": {
            "text/plain": [
              "<IPython.core.display.Javascript object>"
            ],
            "application/javascript": [
              "\n",
              "    async function download(id, filename, size) {\n",
              "      if (!google.colab.kernel.accessAllowed) {\n",
              "        return;\n",
              "      }\n",
              "      const div = document.createElement('div');\n",
              "      const label = document.createElement('label');\n",
              "      label.textContent = `Downloading \"${filename}\": `;\n",
              "      div.appendChild(label);\n",
              "      const progress = document.createElement('progress');\n",
              "      progress.max = size;\n",
              "      div.appendChild(progress);\n",
              "      document.body.appendChild(div);\n",
              "\n",
              "      const buffers = [];\n",
              "      let downloaded = 0;\n",
              "\n",
              "      const channel = await google.colab.kernel.comms.open(id);\n",
              "      // Send a message to notify the kernel that we're ready.\n",
              "      channel.send({})\n",
              "\n",
              "      for await (const message of channel.messages) {\n",
              "        // Send a message to notify the kernel that we're ready.\n",
              "        channel.send({})\n",
              "        if (message.buffers) {\n",
              "          for (const buffer of message.buffers) {\n",
              "            buffers.push(buffer);\n",
              "            downloaded += buffer.byteLength;\n",
              "            progress.value = downloaded;\n",
              "          }\n",
              "        }\n",
              "      }\n",
              "      const blob = new Blob(buffers, {type: 'application/binary'});\n",
              "      const a = document.createElement('a');\n",
              "      a.href = window.URL.createObjectURL(blob);\n",
              "      a.download = filename;\n",
              "      div.appendChild(a);\n",
              "      a.click();\n",
              "      div.remove();\n",
              "    }\n",
              "  "
            ]
          },
          "metadata": {}
        },
        {
          "output_type": "display_data",
          "data": {
            "text/plain": [
              "<IPython.core.display.Javascript object>"
            ],
            "application/javascript": [
              "download(\"download_97c9f5d8-6507-449e-9ae8-1d3b69c63c32\", \"modified_pdf_file_2.pdf\", 581692)"
            ]
          },
          "metadata": {}
        }
      ]
    }
  ]
}